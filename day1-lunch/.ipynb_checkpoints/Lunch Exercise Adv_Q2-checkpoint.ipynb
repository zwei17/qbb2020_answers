{
 "cells": [
  {
   "cell_type": "markdown",
   "metadata": {},
   "source": [
    "# Lunch Exercise Adv. Q2"
   ]
  },
  {
   "cell_type": "markdown",
   "metadata": {},
   "source": [
    "## Import packages"
   ]
  },
  {
   "cell_type": "code",
   "execution_count": 3,
   "metadata": {},
   "outputs": [],
   "source": [
    "import matplotlib.pyplot as plt\n",
    "import pandas as pd\n",
    "import numpy as np"
   ]
  },
  {
   "cell_type": "markdown",
   "metadata": {},
   "source": [
    "## Read data (copied from Q3 & 4)"
   ]
  },
  {
   "cell_type": "code",
   "execution_count": 4,
   "metadata": {},
   "outputs": [],
   "source": [
    "def width_and_distr(filename):\n",
    "    path = \"../../qbb2020/data/\" + filename\n",
    "    col_names = [\"chr\", \"start\", \"end\"]\n",
    "    df = pd.read_table(path, names = col_names)\n",
    "    df.loc[:, \"width\"] = df.loc[:, \"end\"] - df.loc[:, \"start\"]\n",
    "    chr_distr = df.loc[:,\"chr\"]\n",
    "    chr_distr = chr_distr.value_counts()\n",
    "    return (df, chr_distr)"
   ]
  },
  {
   "cell_type": "code",
   "execution_count": 5,
   "metadata": {},
   "outputs": [],
   "source": [
    "df_k4, chr_k4 = width_and_distr(\"K4me3.bed\")\n",
    "df_k9, chr_k9 = width_and_distr(\"K9me3.bed\")\n",
    "df_k27, chr_k27 = width_and_distr(\"K27me3.bed\")"
   ]
  },
  {
   "cell_type": "markdown",
   "metadata": {},
   "source": [
    "## Plot peak width distributions of three datasets in one plot"
   ]
  },
  {
   "cell_type": "code",
   "execution_count": 7,
   "metadata": {},
   "outputs": [
    {
     "data": {
      "image/png": "[encoded data removed]",
      "text/plain": [
       "<Figure size 432x288 with 1 Axes>"
      ]
     },
     "metadata": {
      "needs_background": "light"
     },
     "output_type": "display_data"
    }
   ],
   "source": [
    "all_distr = np.array([df_k4.loc[:,\"width\"].values, df_k9.loc[:,\"width\"].values, df_k27.loc[:,\"width\"].values], dtype = object)\n",
    "log_all_distr = [np.log2(each) for each in all_distr]\n",
    "fig, ax = plt.subplots()\n",
    "ax.hist(log_all_distr, 20, label = [\"H3K4me3\", \"H3K9me3\", \"H3K27me3\"])\n",
    "ax.set_xlabel(\"Peak width\")\n",
    "ax.set_ylabel(\"Counts\")\n",
    "plt.legend()\n",
    "plt.show()"
   ]
  }
 ],
 "metadata": {
  "kernelspec": {
   "display_name": "Python 3",
   "language": "python",
   "name": "python3"
  },
  "language_info": {
   "codemirror_mode": {
    "name": "ipython",
    "version": 3
   },
   "file_extension": ".py",
   "mimetype": "text/x-python",
   "name": "python",
   "nbconvert_exporter": "python",
   "pygments_lexer": "ipython3",
   "version": "3.6.11"
  }
 },
 "nbformat": 4,
 "nbformat_minor": 4
}
