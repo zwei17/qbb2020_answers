{
 "cells": [
  {
   "cell_type": "markdown",
   "metadata": {},
   "source": [
    "# Day 2 lunch exerceise"
   ]
  },
  {
   "cell_type": "markdown",
   "metadata": {},
   "source": [
    "## 1. Mapping FlyBase genes to UniProt"
   ]
  },
  {
   "cell_type": "markdown",
   "metadata": {},
   "source": [
    "### Create a new mapping file with headers."
   ]
  },
  {
   "cell_type": "code",
   "execution_count": 9,
   "metadata": {},
   "outputs": [],
   "source": [
    "id_map = open('id_map.txt', 'w')\n",
    "id_map.write('FlyBaseID\\tUniProtID\\n')\n",
    "id_map.close()"
   ]
  },
  {
   "cell_type": "markdown",
   "metadata": {},
   "source": [
    "### Extract FlyBase ID and UniProt ID from fly.txt"
   ]
  },
  {
   "cell_type": "code",
   "execution_count": 10,
   "metadata": {},
   "outputs": [],
   "source": [
    "fly = open('fly.txt', 'r')"
   ]
  },
  {
   "cell_type": "code",
   "execution_count": 11,
   "metadata": {},
   "outputs": [],
   "source": [
    "for line in fly:\n",
    "    if 'DROME' not in line or 'FBgn' not in line:     #Some entries do not have a FBgn number, so exclude them.\n",
    "        continue\n",
    "    content = line.rstrip().split()\n",
    "    content = content[3] + '\\t' + content[2] + '\\n'\n",
    "    id_map = open('id_map.txt', 'a')\n",
    "    id_map.write(content)\n",
    "    id_map.close()"
   ]
  },
  {
   "cell_type": "markdown",
   "metadata": {},
   "source": [
    "## 2. ID mapping"
   ]
  },
  {
   "cell_type": "markdown",
   "metadata": {},
   "source": [
    "## Define the function"
   ]
  },
  {
   "cell_type": "code",
   "execution_count": 72,
   "metadata": {},
   "outputs": [],
   "source": [
    "def IDmapping(ctabfile, mapfile, outputfname, ignore = True, notfound = '*'):\n",
    "    '''Maps the FlyBase Number in ctabfile to the UniProt Number in mapfile. \n",
    "        This function gives the first 100 entries. \n",
    "        If a FlyBase Number is not present in the map file, it is skipped or replaced by a certain sign based on the optional variables.'''\n",
    "    #Create the output file with a header.\n",
    "    uniP_ctab = open(outputfname, 'w')\n",
    "    uniP_ctab.write('t_id\\tchr\\tstrand\\tstart\\tend\\tt_name\\tnum_exons\\tlength\\tUniProt_id\\tgene_name\\tcov\\tFPKM\\n')\n",
    "    uniP_ctab.close()\n",
    "    \n",
    "    #Create a dictionary for mapping\n",
    "    mapping = dict()\n",
    "    id_map = open(mapfile, 'r')\n",
    "    for line in id_map:\n",
    "        if line[1] == 'l':\n",
    "            continue\n",
    "        IDs = line.rstrip().split()\n",
    "        mapping[IDs[0]] = IDs[1]\n",
    "    id_map.close()\n",
    "    \n",
    "    #Map gene IDs.\n",
    "    ctab = open(ctabfile, 'r')\n",
    "    ctab.seek(0, 0)\n",
    "    n = 0\n",
    "    for line in ctab:\n",
    "        if n == 0:\n",
    "            n += 1\n",
    "            continue\n",
    "        elif n == 101:\n",
    "            break\n",
    "        content = line.rstrip().split()\n",
    "        try:\n",
    "            content[8] = mapping[content[8]]\n",
    "        except:\n",
    "            if ignore:\n",
    "                #n += 1     #If we only need information about the first 100 entries in the ctab file, add this line.\n",
    "                continue\n",
    "            content[8] = notfound\n",
    "        content = '\\t'.join(content)\n",
    "        content += '\\n'\n",
    "        uniP_ctab = open(outputfname, 'a')\n",
    "        uniP_ctab.write(content)\n",
    "        uniP_ctab.close()\n",
    "        n += 1\n",
    "    ctab.close()\n",
    "    return"
   ]
  },
  {
   "cell_type": "markdown",
   "metadata": {},
   "source": [
    "## Ignore the not-found entries"
   ]
  },
  {
   "cell_type": "code",
   "execution_count": 73,
   "metadata": {},
   "outputs": [],
   "source": [
    "IDmapping('../../data/results/stringtie/SRR072893/t_data.ctab', 'id_map.txt', 'UniP_t_data_ignore.txt')"
   ]
  },
  {
   "cell_type": "markdown",
   "metadata": {},
   "source": [
    "## Use '\\*' to replace the not-found FlyBase Numbers"
   ]
  },
  {
   "cell_type": "code",
   "execution_count": 75,
   "metadata": {},
   "outputs": [],
   "source": [
    "IDmapping('../../data/results/stringtie/SRR072893/t_data.ctab', 'id_map.txt', 'UniP_t_data_notignore.txt', False)"
   ]
  },
  {
   "cell_type": "code",
   "execution_count": null,
   "metadata": {},
   "outputs": [],
   "source": []
  }
 ],
 "metadata": {
  "kernelspec": {
   "display_name": "Python 3",
   "language": "python",
   "name": "python3"
  },
  "language_info": {
   "codemirror_mode": {
    "name": "ipython",
    "version": 3
   },
   "file_extension": ".py",
   "mimetype": "text/x-python",
   "name": "python",
   "nbconvert_exporter": "python",
   "pygments_lexer": "ipython3",
   "version": "3.6.11"
  }
 },
 "nbformat": 4,
 "nbformat_minor": 4
}
