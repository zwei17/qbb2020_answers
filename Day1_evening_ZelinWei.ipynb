{
 "cells": [
  {
   "cell_type": "markdown",
   "metadata": {},
   "source": [
    "# Day1 evening assignment"
   ]
  },
  {
   "cell_type": "markdown",
   "metadata": {},
   "source": [
    "## 1. Count alignment number"
   ]
  },
  {
   "cell_type": "markdown",
   "metadata": {},
   "source": [
    "### Read SAM files."
   ]
  },
  {
   "cell_type": "code",
   "execution_count": 94,
   "metadata": {},
   "outputs": [
    {
     "data": {
      "text/plain": [
       "0"
      ]
     },
     "execution_count": 94,
     "metadata": {},
     "output_type": "execute_result"
    }
   ],
   "source": [
    "samf = open('SRR072893.sam', 'r')\n",
    "samf.seek(0, 0)"
   ]
  },
  {
   "cell_type": "markdown",
   "metadata": {},
   "source": [
    "### Read through the file and calculate total alignment number."
   ]
  },
  {
   "cell_type": "code",
   "execution_count": 95,
   "metadata": {},
   "outputs": [],
   "source": [
    "alignNum = 0"
   ]
  },
  {
   "cell_type": "code",
   "execution_count": 96,
   "metadata": {},
   "outputs": [
    {
     "name": "stdout",
     "output_type": "stream",
     "text": [
      "There are 2000000 alignments in total.\n"
     ]
    }
   ],
   "source": [
    "while samf.readline():\n",
    "    alignNum+=1\n",
    "print('There are', alignNum, 'alignments in total.')"
   ]
  },
  {
   "cell_type": "code",
   "execution_count": 97,
   "metadata": {},
   "outputs": [],
   "source": [
    "samf.close()"
   ]
  },
  {
   "cell_type": "markdown",
   "metadata": {},
   "source": [
    "## 2. Perfectly matched alignments"
   ]
  },
  {
   "cell_type": "markdown",
   "metadata": {},
   "source": [
    "### Read SAM files."
   ]
  },
  {
   "cell_type": "code",
   "execution_count": 98,
   "metadata": {},
   "outputs": [
    {
     "data": {
      "text/plain": [
       "0"
      ]
     },
     "execution_count": 98,
     "metadata": {},
     "output_type": "execute_result"
    }
   ],
   "source": [
    "samf = open('SRR072893.sam', 'r')\n",
    "samf.seek(0, 0)"
   ]
  },
  {
   "cell_type": "markdown",
   "metadata": {},
   "source": [
    "### Seek for '40M' flags in the file."
   ]
  },
  {
   "cell_type": "code",
   "execution_count": 99,
   "metadata": {},
   "outputs": [],
   "source": [
    "perfectNum = 0\n",
    "align = samf.readline()"
   ]
  },
  {
   "cell_type": "code",
   "execution_count": 100,
   "metadata": {},
   "outputs": [
    {
     "name": "stdout",
     "output_type": "stream",
     "text": [
      "There are 1722461 perfect alignments in total.\n"
     ]
    }
   ],
   "source": [
    "while align:\n",
    "    align = align.split('\\t')\n",
    "    if align[5] == '40M':\n",
    "        perfectNum += 1\n",
    "    align = samf.readline()\n",
    "print('There are', perfectNum, 'perfect alignments in total.')"
   ]
  },
  {
   "cell_type": "code",
   "execution_count": 101,
   "metadata": {},
   "outputs": [],
   "source": [
    "samf.close()"
   ]
  },
  {
   "cell_type": "markdown",
   "metadata": {},
   "source": [
    "## 3. Chromosome information of the first ten alignments"
   ]
  },
  {
   "cell_type": "markdown",
   "metadata": {},
   "source": [
    "### Read SAM files."
   ]
  },
  {
   "cell_type": "code",
   "execution_count": 102,
   "metadata": {},
   "outputs": [
    {
     "data": {
      "text/plain": [
       "0"
      ]
     },
     "execution_count": 102,
     "metadata": {},
     "output_type": "execute_result"
    }
   ],
   "source": [
    "samf = open('SRR072893.sam', 'r')\n",
    "samf.seek(0, 0)"
   ]
  },
  {
   "cell_type": "markdown",
   "metadata": {},
   "source": [
    "### Print RNAME for the first ten entries."
   ]
  },
  {
   "cell_type": "code",
   "execution_count": 103,
   "metadata": {},
   "outputs": [
    {
     "name": "stdout",
     "output_type": "stream",
     "text": [
      "Entry # 1 on chromosome 2L\n",
      "Entry # 2 on chromosome 2L\n",
      "Entry # 3 on chromosome 2L\n",
      "Entry # 4 on chromosome 2L\n",
      "Entry # 5 on chromosome 2L\n",
      "Entry # 6 on chromosome 2L\n",
      "Entry # 7 on chromosome 2L\n",
      "Entry # 8 on chromosome 2L\n",
      "Entry # 9 on chromosome 2L\n",
      "Entry # 10 on chromosome 2L\n"
     ]
    }
   ],
   "source": [
    "for entry in range(10):\n",
    "    line = samf.readline()\n",
    "    Rname = line.split('\\t')[2]\n",
    "    print('Entry #', entry+1, 'on chromosome', Rname)"
   ]
  },
  {
   "cell_type": "code",
   "execution_count": 104,
   "metadata": {},
   "outputs": [],
   "source": [
    "samf.close()"
   ]
  },
  {
   "cell_type": "markdown",
   "metadata": {},
   "source": [
    "## 4. Calculate average MAPQ"
   ]
  },
  {
   "cell_type": "markdown",
   "metadata": {},
   "source": [
    "### Read SAM files."
   ]
  },
  {
   "cell_type": "code",
   "execution_count": 105,
   "metadata": {},
   "outputs": [
    {
     "data": {
      "text/plain": [
       "0"
      ]
     },
     "execution_count": 105,
     "metadata": {},
     "output_type": "execute_result"
    }
   ],
   "source": [
    "samf = open('SRR072893.sam', 'r')\n",
    "samf.seek(0, 0)"
   ]
  },
  {
   "cell_type": "markdown",
   "metadata": {},
   "source": [
    "### Calculate mean value of MAPQ."
   ]
  },
  {
   "cell_type": "code",
   "execution_count": 106,
   "metadata": {},
   "outputs": [],
   "source": [
    "mapq = 0\n",
    "align = samf.readline()"
   ]
  },
  {
   "cell_type": "code",
   "execution_count": 107,
   "metadata": {},
   "outputs": [
    {
     "name": "stdout",
     "output_type": "stream",
     "text": [
      "Mean value of MAPQ =  59.6407825\n"
     ]
    }
   ],
   "source": [
    "while align:\n",
    "    align = align.split('\\t')\n",
    "    mapq += float(align[4])\n",
    "    align = samf.readline()\n",
    "\n",
    "mapq_mean = mapq/alignNum\n",
    "print('Mean value of MAPQ = ', mapq_mean)"
   ]
  },
  {
   "cell_type": "code",
   "execution_count": 108,
   "metadata": {},
   "outputs": [],
   "source": [
    "samf.close()"
   ]
  },
  {
   "cell_type": "markdown",
   "metadata": {},
   "source": [
    "## 5. Number of alignments on Chr2L: 10000...20000"
   ]
  },
  {
   "cell_type": "markdown",
   "metadata": {},
   "source": [
    "### Read SAM files."
   ]
  },
  {
   "cell_type": "code",
   "execution_count": 109,
   "metadata": {},
   "outputs": [
    {
     "data": {
      "text/plain": [
       "0"
      ]
     },
     "execution_count": 109,
     "metadata": {},
     "output_type": "execute_result"
    }
   ],
   "source": [
    "samf = open('SRR072893.sam', 'r')\n",
    "samf.seek(0, 0)"
   ]
  },
  {
   "cell_type": "markdown",
   "metadata": {},
   "source": [
    "### Seek for alignments on Chr2L: 10000...20000"
   ]
  },
  {
   "cell_type": "code",
   "execution_count": 110,
   "metadata": {},
   "outputs": [],
   "source": [
    "Num_2L = 0\n",
    "align = samf.readline()"
   ]
  },
  {
   "cell_type": "code",
   "execution_count": 111,
   "metadata": {},
   "outputs": [
    {
     "name": "stdout",
     "output_type": "stream",
     "text": [
      "There are 7550 alignments on Chr2L: 10000...20000.\n"
     ]
    }
   ],
   "source": [
    "while align:\n",
    "    align = align.split('\\t')\n",
    "    if align[2] == '2L' and float(align[3]) >= 10000 and float(align[3]) <= 20000:\n",
    "        Num_2L += 1\n",
    "    align = samf.readline()\n",
    "\n",
    "print('There are', Num_2L, 'alignments on Chr2L: 10000...20000.')"
   ]
  },
  {
   "cell_type": "code",
   "execution_count": 112,
   "metadata": {},
   "outputs": [],
   "source": [
    "samf.close()"
   ]
  },
  {
   "cell_type": "markdown",
   "metadata": {},
   "source": [
    "## Adv_1. Alignments on reverse strand"
   ]
  },
  {
   "cell_type": "markdown",
   "metadata": {},
   "source": [
    "### Read SAM files."
   ]
  },
  {
   "cell_type": "code",
   "execution_count": 113,
   "metadata": {},
   "outputs": [
    {
     "data": {
      "text/plain": [
       "0"
      ]
     },
     "execution_count": 113,
     "metadata": {},
     "output_type": "execute_result"
    }
   ],
   "source": [
    "samf = open('SRR072893.sam', 'r')\n",
    "samf.seek(0, 0)"
   ]
  },
  {
   "cell_type": "markdown",
   "metadata": {},
   "source": [
    "### Search for reverse alignment flag."
   ]
  },
  {
   "cell_type": "code",
   "execution_count": 114,
   "metadata": {},
   "outputs": [],
   "source": [
    "RevNum = 0\n",
    "align = samf.readline()"
   ]
  },
  {
   "cell_type": "code",
   "execution_count": 115,
   "metadata": {},
   "outputs": [
    {
     "name": "stdout",
     "output_type": "stream",
     "text": [
      "There are 3392 alignments on reverse strand.\n"
     ]
    }
   ],
   "source": [
    "while align:\n",
    "    flag = int(align.split('\\t')[1])\n",
    "    bin_flag = bin(flag)[2:]\n",
    "    if len(bin_flag) > 4 and bin_flag[4] == '1':\n",
    "        RevNum += 1\n",
    "    align = samf.readline()\n",
    "    \n",
    "print('There are', RevNum, 'alignments on reverse strand.')"
   ]
  },
  {
   "cell_type": "code",
   "execution_count": 116,
   "metadata": {},
   "outputs": [],
   "source": [
    "samf.close()"
   ]
  },
  {
   "cell_type": "markdown",
   "metadata": {},
   "source": [
    "## Adv_2. Number of Q30 reads"
   ]
  },
  {
   "cell_type": "markdown",
   "metadata": {},
   "source": [
    "### Read SAM files."
   ]
  },
  {
   "cell_type": "code",
   "execution_count": 117,
   "metadata": {},
   "outputs": [
    {
     "data": {
      "text/plain": [
       "0"
      ]
     },
     "execution_count": 117,
     "metadata": {},
     "output_type": "execute_result"
    }
   ],
   "source": [
    "samf = open('SRR072893.sam', 'r')\n",
    "samf.seek(0, 0)"
   ]
  },
  {
   "cell_type": "markdown",
   "metadata": {},
   "source": [
    "### Search for Q30 entries."
   ]
  },
  {
   "cell_type": "code",
   "execution_count": 118,
   "metadata": {},
   "outputs": [],
   "source": [
    "align = samf.readline()\n",
    "Q30Num = 0"
   ]
  },
  {
   "cell_type": "code",
   "execution_count": 119,
   "metadata": {},
   "outputs": [
    {
     "name": "stdout",
     "output_type": "stream",
     "text": [
      "There are 1388308 alignments with average reading quality larger than 30.\n"
     ]
    }
   ],
   "source": [
    "while align:\n",
    "    phred = align.split('\\t')[10]\n",
    "    Qsum = 0\n",
    "    for each in phred:\n",
    "        Qsum += (ord(each)-33)\n",
    "    Qval = float(Qsum)/len(phred)\n",
    "    if Qval >= 30:\n",
    "        Q30Num += 1\n",
    "    align = samf.readline()\n",
    "    \n",
    "print('There are', Q30Num, 'alignments with average reading quality larger than 30.')"
   ]
  },
  {
   "cell_type": "code",
   "execution_count": 120,
   "metadata": {},
   "outputs": [],
   "source": [
    "samf.close()"
   ]
  },
  {
   "cell_type": "markdown",
   "metadata": {},
   "source": [
    "## Adv_3. Number of indels"
   ]
  },
  {
   "cell_type": "markdown",
   "metadata": {},
   "source": [
    "### Define a indel calculation function."
   ]
  },
  {
   "cell_type": "code",
   "execution_count": 121,
   "metadata": {},
   "outputs": [],
   "source": [
    "def indel_count(filename, indel_len):\n",
    "    samf = open(filename, 'r')\n",
    "    samf.seek(0, 0)\n",
    "    count = 0\n",
    "    align = samf.readline()\n",
    "    while align:\n",
    "        CIGAR = align.split('\\t')[5]\n",
    "        I_CIGAR = CIGAR.count(str(indel_len) + 'I')\n",
    "        D_CIGAR = CIGAR.count(str(indel_len) + 'D')\n",
    "        count += (I_CIGAR+D_CIGAR)\n",
    "        align = samf.readline()\n",
    "    samf.close()\n",
    "    return count"
   ]
  },
  {
   "cell_type": "code",
   "execution_count": 122,
   "metadata": {},
   "outputs": [
    {
     "name": "stdout",
     "output_type": "stream",
     "text": [
      "There are 2883 1-bp indels.\n"
     ]
    }
   ],
   "source": [
    "print('There are', indel_count('SRR072893.sam', 1), '1-bp indels.')"
   ]
  },
  {
   "cell_type": "code",
   "execution_count": 123,
   "metadata": {},
   "outputs": [
    {
     "name": "stdout",
     "output_type": "stream",
     "text": [
      "There are 0 2-bp indels.\n"
     ]
    }
   ],
   "source": [
    "print('There are', indel_count('SRR072893.sam', 2), '2-bp indels.')"
   ]
  },
  {
   "cell_type": "code",
   "execution_count": 124,
   "metadata": {},
   "outputs": [
    {
     "name": "stdout",
     "output_type": "stream",
     "text": [
      "There are 0 3-bp indels.\n"
     ]
    }
   ],
   "source": [
    "print('There are', indel_count('SRR072893.sam', 3), '3-bp indels.')"
   ]
  },
  {
   "cell_type": "code",
   "execution_count": 125,
   "metadata": {
    "scrolled": true
   },
   "outputs": [
    {
     "name": "stdout",
     "output_type": "stream",
     "text": [
      "There are 0 4-bp indels.\n"
     ]
    }
   ],
   "source": [
    "print('There are', indel_count('SRR072893.sam', 4), '4-bp indels.')"
   ]
  },
  {
   "cell_type": "markdown",
   "metadata": {},
   "source": [
    "### Count indels larger than 4 bp."
   ]
  },
  {
   "cell_type": "code",
   "execution_count": 126,
   "metadata": {},
   "outputs": [
    {
     "name": "stdout",
     "output_type": "stream",
     "text": [
      "There are 0 indels larger than 4 bp.\n"
     ]
    }
   ],
   "source": [
    "samf = open('SRR072893.sam', 'r')\n",
    "samf.seek(0, 0)\n",
    "count = 0\n",
    "align = samf.readline()\n",
    "while align:\n",
    "    CIGAR = align.split('\\t')[5]\n",
    "    if 'I' in CIGAR:\n",
    "        I_CIGAR = CIGAR.split('I')\n",
    "        for each in I_CIGAR[:-1]:\n",
    "            if int(each[-1]) > 4:\n",
    "                count += 1\n",
    "    if 'D' in CIGAR:\n",
    "        D_CIGAR = CIGAR.split('D')\n",
    "        for each in D_CIGAR[:-1]:\n",
    "            if int(each[-1]) > 4:\n",
    "                count += 1\n",
    "    align = samf.readline()\n",
    "print('There are', count, 'indels larger than 4 bp.')\n",
    "samf.close()"
   ]
  },
  {
   "cell_type": "code",
   "execution_count": null,
   "metadata": {},
   "outputs": [],
   "source": []
  }
 ],
 "metadata": {
  "kernelspec": {
   "display_name": "Python 3",
   "language": "python",
   "name": "python3"
  },
  "language_info": {
   "codemirror_mode": {
    "name": "ipython",
    "version": 3
   },
   "file_extension": ".py",
   "mimetype": "text/x-python",
   "name": "python",
   "nbconvert_exporter": "python",
   "pygments_lexer": "ipython3",
   "version": "3.6.11"
  }
 },
 "nbformat": 4,
 "nbformat_minor": 4
}
